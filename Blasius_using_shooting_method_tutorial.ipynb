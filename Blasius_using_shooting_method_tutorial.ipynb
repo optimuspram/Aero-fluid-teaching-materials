{
 "cells": [
  {
   "cell_type": "markdown",
   "metadata": {
    "id": "sR-yPxr736eY"
   },
   "source": [
    "# Solving Blasius Equation by using shooting method and Python\n",
    "**Written by: Pramudita Satria Palar, Ph.D.**\n",
    "\n",
    "**Last updated: 29-October-2021**\n",
    "\n",
    "This code demonstrates how to solve the Blasius equation by using the shooting method using Python. Blasius equation is a celebrated equation in fluid mechanics which, as the name suggests, is developed by Blasius.\n",
    "\n",
    "Let's start by importing some necessary packages:"
   ]
  },
  {
   "cell_type": "code",
   "execution_count": 1,
   "metadata": {
    "id": "-CEmYkm8jEb0"
   },
   "outputs": [],
   "source": [
    "import numpy as np\n",
    "import matplotlib.pyplot as plt\n",
    "from scipy.integrate import odeint\n",
    "from scipy.optimize import fsolve\n",
    "from scipy import integrate"
   ]
  },
  {
   "cell_type": "markdown",
   "metadata": {
    "id": "JOI3o7itdl8I"
   },
   "source": [
    "# Introduction"
   ]
  },
  {
   "cell_type": "markdown",
   "metadata": {
    "id": "x9ideh0RoMWB"
   },
   "source": [
    "Our equation of interest is the Blasius equation, which reads as\n",
    "\n",
    "$f'''+ff''=0$,\n",
    "\n",
    "remember that $f = f(\\eta)$ where $\\eta = y \\sqrt{\\frac{U}{\\nu x}} $ is our similarity variable, $U$ is the freestream velocity, and $\\nu$ is the kinematic viscosity. The Blasius equation is a third-order nonlinear ordinary differential equation (ODE) that describes the steady two-dimensional laminar boundary layer on a semi-infinite plate with the angle of attack equal to zero (i.e., $\\alpha=0$). When the plate is not parallel to the flow, we have the Falkner-Skan boundary layer which is a generalization of the Blasius equation.\n",
    "\n",
    "For the sake of clarity,\n",
    "*   $f = f(\\eta)$\n",
    "*   $f' = \\frac{\\partial f }{\\partial \\eta}=\\frac{u}{U}$\n",
    "*   $f'' = \\frac{\\partial^{2}f}{\\partial \\eta^{2}}$\n",
    "*   $f''' = \\frac{\\partial^{3}f}{\\partial \\eta^{3}}$\n",
    "\n",
    "\n",
    "What we want to solve is $f'''+ff''=0$ with $f(0)=0$, $f'(0)=0$, $f'(\\infty)=1$. Remember that $f(\\eta=0)$ acorresponds to $y=0$ \n",
    "\n",
    "This differential equation is recasted as a system of first order ODEs so that it can be solved numerically:\n",
    "\n",
    "$y = [f;f';f''] = [y(1);y(2);y(3)]$\n",
    "\n",
    "$dy/d\\eta = [f';f'';f'''] = [y(2);y(3);\\frac{1}{2}y(1)y(3)]$"
   ]
  },
  {
   "cell_type": "markdown",
   "metadata": {
    "id": "FIe4KMLOAcMP"
   },
   "source": [
    "# Solving the Blasius equation"
   ]
  },
  {
   "cell_type": "markdown",
   "metadata": {
    "id": "-mcI8ejuib2e"
   },
   "source": [
    "We will use ```odeint``` from ```scipy``` to aid in solving the problem. However, we need to correctly guess the initial conditions so that the solution also satisfies the given boundary conditions. It is difficult to solve it on the first try, but you need your initial guess of the initial condition (say $\\boldsymbol{\\omega}$) to start trying. Remember that you need to aim for $f(0)=0$, $f'(0)=0$, $f'(\\infty)=1$, so the next thing that you need to compare the resulting $f(0)$, $f'(0)$, $f'(\\infty)$ from $\\boldsymbol{\\omega}$ with the target. It is highly likely that you will miss your target, but your next aim will surely be better. This is the essence of the shooting method: the initial condition is further refined until you hit your target; the resulting solution is then the solutions of your Blasius equation that correctly satisfy the boundary condition (i.e., your solutions are $f$,$f'$ and $f''$) \n",
    "\n",
    "First, we need to define a Python function which calculates the derivative:"
   ]
  },
  {
   "cell_type": "code",
   "execution_count": 2,
   "metadata": {
    "id": "E5Ld350Rp5Sx"
   },
   "outputs": [],
   "source": [
    "# Define a function which calculates the derivative\n",
    "def flatplate(f,eta):\n",
    "    # Blasius differential equation for solving boundary layer velocities\n",
    "    dydeta = [f[1],f[2],-1*f[0]*f[2]]\n",
    "    return dydeta"
   ]
  },
  {
   "cell_type": "markdown",
   "metadata": {
    "id": "5K2uIkqZcQmE"
   },
   "source": [
    "In the following, we define a function ```solve_ODE``` which takes the initial condition ```F``` as the input. The ```solve_ODE``` routine essentially solves the recasted Blasius by using any values of the initial condition. We aim to find ```F``` that satisfies the boundary conditions of the Blasius problem, which is a boundary value problem. We will do that by trying to match the boundary conditions from an arbitrary value of ```F``` with the specified Blasius boundary conditions (i.e., $f(0)=0$, $f'(0)=0$, $f'(\\infty)=1$). Let us define ```eval_boundary(F)``` which computes the error between our guess and the target. We then need specialized subroutines such as ```fsolve``` from ```scipy``` to solve this problem. \n",
    "\n"
   ]
  },
  {
   "cell_type": "code",
   "execution_count": 3,
   "metadata": {
    "id": "4ZVGm7tzuQpE"
   },
   "outputs": [],
   "source": [
    "def solve_ODE(F):\n",
    "    eta = np.linspace(0,6,100) # eta grid\n",
    "    fsol = odeint(flatplate,F,eta)\n",
    "    return fsol \n",
    "\n",
    "def eval_boundary(F):\n",
    "    # Find the solution to the ODE, given initial condition F\n",
    "    fsol = solve_ODE(F)\n",
    "\n",
    "    # Get the function values for BCs at the starting/end points\n",
    "    f_start = fsol[0,0] #f(0) = 0\n",
    "    df_start = fsol[0,1] #f'(0) = 0\n",
    "    df_end = fsol[-1,1] #f'(inf)-1 = 0 \n",
    "\n",
    "    # Evaluate the boundary (they should be close to zero)\n",
    "    g = np.array([f_start, df_start, df_end-1])\n",
    "    return g"
   ]
  },
  {
   "cell_type": "markdown",
   "metadata": {
    "id": "kqMBl3PP1deK"
   },
   "source": [
    "Perform shooting method by using ```scipy.optimize.fsolve```. Notice that ```fsolve``` basically works by finding the root of the function, which does the job for the shooting method (it is essentially an optimization procedure, you want to find ```F``` that minimizes the error to the target boundary conditions):\n",
    "\n",
    "\n"
   ]
  },
  {
   "cell_type": "code",
   "execution_count": 4,
   "metadata": {
    "id": "tFL0VNnQzUUK"
   },
   "outputs": [],
   "source": [
    "f0 = [0.2,0.33,1.33] # Initial guess\n",
    "root = fsolve(eval_boundary, f0) # Shooting method by using fsolve\n",
    "sol = solve_ODE(root) # Solve the ODE by using the initial conditions from the shooting method."
   ]
  },
  {
   "cell_type": "markdown",
   "metadata": {
    "id": "grKLkdTsd2Z8"
   },
   "source": [
    "Here, ```root``` is the initial condition that matches the boundary conditions, while ```sol``` is the solution of the boundary value problem from Blasius equation.\n",
    "\n",
    "You can check your calculation by inputting again the solution (i.e., ```root```) to ```eval_boundary```. If you calculation is correct, it should yield values that are extremely close to zero (meaning that the error is already very small!)."
   ]
  },
  {
   "cell_type": "code",
   "execution_count": 5,
   "metadata": {
    "id": "5MkBgkrMdtG1"
   },
   "outputs": [
    {
     "name": "stdout",
     "output_type": "stream",
     "text": [
      "[-2.86118864e-28 -1.59872155e-29  0.00000000e+00]\n"
     ]
    }
   ],
   "source": [
    "g = eval_boundary(root)\n",
    "print(g)"
   ]
  },
  {
   "cell_type": "markdown",
   "metadata": {
    "id": "9fH_ugzldhen"
   },
   "source": [
    "And that, ladies and gentlement, is how we solve Blasius equation by using the Shooting method."
   ]
  },
  {
   "cell_type": "markdown",
   "metadata": {
    "id": "YIMPMMHU3scj"
   },
   "source": [
    "# Plot the Blasius solution"
   ]
  },
  {
   "cell_type": "markdown",
   "metadata": {
    "id": "llLF2ljHeFul"
   },
   "source": [
    "Let's do some extra stuffs. First, of course, you want to plot the solution. The following figure depicts $f$, $f'$, and $f''$ from the Blasius equation."
   ]
  },
  {
   "cell_type": "code",
   "execution_count": 6,
   "metadata": {
    "id": "iF6eV_Fyz9lQ"
   },
   "outputs": [
    {
     "data": {
      "image/png": "[encoded data removed]",
      "text/plain": [
       "<Figure size 432x288 with 1 Axes>"
      ]
     },
     "metadata": {
      "needs_background": "light"
     },
     "output_type": "display_data"
    }
   ],
   "source": [
    "eta = np.linspace(0,6,100)\n",
    "plt.plot(eta,sol[:,])\n",
    "plt.xlabel('$\\eta$')\n",
    "plt.legend(['$f$','$f\\'$','$f\\'\\'$'])\n",
    "plt.show()"
   ]
  },
  {
   "cell_type": "markdown",
   "metadata": {
    "id": "zmXXAcHU3ycN"
   },
   "source": [
    "Having solved the Blasius equation, we can extract all necessary properties. For example, since\n",
    "$\\frac{u}{U}=f'$, we can calculate the non-dimensionalized $u$. Similarly, we can also plot the non-dimensionalized $v$, that is, $v/(\\nu U / 2x)^{0.5} = \\eta f'(\\eta)-f(\\eta)$. Although not detailed here (at least for now), you can calculate many other useful properties (e.g., shear stress) from the solution of the Blasius equation. "
   ]
  },
  {
   "cell_type": "code",
   "execution_count": 7,
   "metadata": {
    "id": "I1L9CUWw4cH0"
   },
   "outputs": [
    {
     "data": {
      "image/png": "[encoded data removed]",
      "text/plain": [
       "<Figure size 432x288 with 1 Axes>"
      ]
     },
     "metadata": {
      "needs_background": "light"
     },
     "output_type": "display_data"
    },
    {
     "data": {
      "image/png": "[encoded data removed]",
      "text/plain": [
       "<Figure size 432x288 with 1 Axes>"
      ]
     },
     "metadata": {
      "needs_background": "light"
     },
     "output_type": "display_data"
    }
   ],
   "source": [
    "plt.plot(sol[:,1],eta)\n",
    "plt.xlabel(\"$u/U$\")\n",
    "plt.ylabel(\"$\\eta$\")\n",
    "plt.title(\"Non-dimensionalized u-velocity\")\n",
    "plt.show()\n",
    "\n",
    "vndim = np.multiply(eta,sol[:,1])-sol[:,0]\n",
    "plt.plot(vndim,eta)\n",
    "plt.xlabel(\"$V/(nu U/2x)^{0.5}$\")\n",
    "plt.ylabel(\"$\\eta$\")\n",
    "plt.title(\"Non-dimensionalized v-velocity\")\n",
    "plt.show()"
   ]
  },
  {
   "cell_type": "markdown",
   "metadata": {
    "id": "u_0cD7l5NP3D"
   },
   "source": [
    "# Thermal boundary layer"
   ]
  },
  {
   "cell_type": "markdown",
   "metadata": {
    "id": "8G7Qs1Vn07ex"
   },
   "source": [
    "The differential equation that we want to solve is the energy equation written as ODE, reads as\n",
    "\n",
    "$\\frac{d^{2}\\theta}{d \\eta^{2}} + \\frac{1}{2}Pr f \\frac{d \\theta}{d \\eta}=0$,\n",
    "\n",
    "where $Pr=\\frac{\\nu}{\\alpha}$ ($\\alpha$ is thermal diffusity) is the Prandtl number,\n",
    "\n",
    "$\\theta = \\frac{T-T_{w}}{T_{\\infty}-T_{w}}$,\n",
    "\n",
    "$T$ is the temperature, $T_{w}$ is the wall temperature, and $T_{\\infty}$ is the freestream temperature. The boundary conditions are $\\theta(0)=0$ and $\\theta(1)=1$\n",
    "\n",
    "Notice that another possibility is to use:\n",
    "\n",
    "$\\theta_{alt} = \\frac{T-T_{\\infty}}{T_{w}-T_{\\infty}}$.\n",
    "\n",
    "In this tutorial, we use $\\theta$ and not $\\theta_{alt}$.\n",
    "\n",
    "After some derivations, we have the following solution:\n",
    "$\\theta(\\eta,Pr)=\\frac{\\int_{0}^{\\eta}f''^{Pr} d \\eta}{\\int_{0}^{\\infty}f''^{Pr} d \\eta}$, which can be solved by a standard numerical integration routine. Notice that we need $f''$, which is the solution of the previous Blasius equation. Try varying the Prandtl number and see how it would affect the thermal boundary layer.\n"
   ]
  },
  {
   "cell_type": "code",
   "execution_count": 10,
   "metadata": {
    "id": "9N3_3cTONR9z"
   },
   "outputs": [
    {
     "data": {
      "image/png": "[encoded data removed]",
      "text/plain": [
       "<Figure size 432x288 with 1 Axes>"
      ]
     },
     "metadata": {
      "needs_background": "light"
     },
     "output_type": "display_data"
    }
   ],
   "source": [
    "Pr = [0.7,1,10,100] # Prandtl number (you can make a list of it)\n",
    "\n",
    "etat = np.linspace(0,7,1000) # eta, in linear space\n",
    "fsol = odeint(flatplate,root,etat) # Solve by using the root from the previous Blasius equation\n",
    "\n",
    "theta = np.zeros((len(Pr),len(etat))) # Initialize theta\n",
    "for i in range(len(Pr)): \n",
    "    fsolpr = fsol[:,2]**Pr[i] \n",
    "    den = integrate.simps(fsolpr, etat) # Denumerator\n",
    "    for j in range(len(etat)):    \n",
    "        theta[i,j] = integrate.simps(fsolpr[0:j+1], etat[0:j+1]) / den\n",
    "\n",
    "# Plot!\n",
    "for i in range(len(Pr)):\n",
    "    plt.plot(etat,theta[i,:])\n",
    "    plt.xlabel(\"$\\eta$\")\n",
    "    plt.ylabel(\"$\\theta$\")\n",
    "    plt.title(\"Thermal boundary layer profile\")\n",
    "\n",
    "plt.legend(Pr)\n",
    "plt.show()"
   ]
  },
  {
   "cell_type": "markdown",
   "metadata": {
    "id": "YrBfATQST8E7"
   },
   "source": [
    "**That's all!**"
   ]
  }
 ],
 "metadata": {
  "colab": {
   "collapsed_sections": [],
   "name": "Blasius_using_shooting_method_tutorial.ipynb",
   "provenance": [],
   "toc_visible": true
  },
  "kernelspec": {
   "display_name": "Python 3",
   "language": "python",
   "name": "python3"
  },
  "language_info": {
   "codemirror_mode": {
    "name": "ipython",
    "version": 3
   },
   "file_extension": ".py",
   "mimetype": "text/x-python",
   "name": "python",
   "nbconvert_exporter": "python",
   "pygments_lexer": "ipython3",
   "version": "3.8.3"
  }
 },
 "nbformat": 4,
 "nbformat_minor": 4
}
