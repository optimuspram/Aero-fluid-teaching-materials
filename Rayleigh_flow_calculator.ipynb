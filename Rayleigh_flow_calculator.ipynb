{
  "nbformat": 4,
  "nbformat_minor": 0,
  "metadata": {
    "colab": {
      "name": "Rayleigh_flow_calculator.ipynb",
      "provenance": [],
      "collapsed_sections": [],
      "authorship_tag": "ABX9TyO0BfxDYBx2618Uppo30+Xw",
      "include_colab_link": true
    },
    "kernelspec": {
      "name": "python3",
      "display_name": "Python 3"
    }
  },
  "cells": [
    {
      "cell_type": "markdown",
      "metadata": {
        "id": "view-in-github",
        "colab_type": "text"
      },
      "source": [
        "<a href=\"https://colab.research.google.com/github/pramsatriapalar/aero_fluid_teaching_materials/blob/main/Rayleigh_flow_calculator.ipynb\" target=\"_parent\"><img src=\"https://colab.research.google.com/assets/colab-badge.svg\" alt=\"Open In Colab\"/></a>"
      ]
    },
    {
      "cell_type": "markdown",
      "metadata": {
        "id": "z4rEB4-kWcKX"
      },
      "source": [
        "# Rayleigh flow Simple Calculator\n",
        "\n",
        "###Written by: [Pramudita Satria Palar](https://sites.google.com/view/pramudita-satria-palar/home) (Bandung Institute of Technology, Indonesia)\n",
        "\n",
        "###Last updated: 28-9-2020\n",
        "\n",
        "### References: \n",
        "\n",
        "*   Anderson Jr, John David. Modern Compressible Flow\n",
        "\n",
        "**Note: You have to log-in to your gmail account first before you can run all the programs in this notebook.**\n",
        "\n"
      ]
    },
    {
      "cell_type": "markdown",
      "metadata": {
        "id": "uzgtL4qtzWCT"
      },
      "source": [
        "Nomenclature:\n",
        "*   $c_{p}$ = specific heat\n",
        "*   $p$ = static pressure\n",
        "*   $q$ = heat transfer\n",
        "*   $p_{0}$ = total pressure\n",
        "*   $R$ = gas constant\n",
        "*   $T$ = static temperature\n",
        "*   $T_{0}$ = total temperature\n",
        "*   $s$ = entropy\n",
        "*   $\\gamma$ = heat capacity ratio\n",
        "*   $\\rho$ = static density\n",
        "*   $M_{1}$ = Mach number before heat transfer\n",
        "*   $M_{2}$ = Mach number after heat transfer\n",
        "\n",
        "The superscript star (i.e., $^{*}$) denotes the reference (sonic condition)\n",
        "\n"
      ]
    },
    {
      "cell_type": "markdown",
      "metadata": {
        "id": "5LGnXzfMWu2J"
      },
      "source": [
        "This python notebook calculates the flow properties for a flow with heat addition (i.e., **Rayleigh flow**). Unlike the normal shock wave case, this calculator calculates the ratio between the properties at a certain Mach number to those of the reference condition (i..e, the sonic condition). Remember that I won't explain the derivation of all the equations. In the following calculations, the gas is an air ($R=287.5$ J/Kg.K, $\\gamma=1.4$), where the $c_{p}$ is calculated by $c_{p} = (\\gamma R)/(\\gamma-1)$. However, you can change $R$ and $\\gamma$ by yourself. \n",
        "\n",
        "The Rayleigh flow is a non-isentropic flow with **heat transfer** (non-adiabatic) and negligible friction. As such, the presence of heat transfer changes the entropy the system.  Notice that I use the subscript 1 and 2 to denote the properties before and after heat transfer, respectively. Similar to the normal shock wave case, the main aim is to calculate the properties after 'something', and that 'something' is heat transfer. Your task is then:\n",
        " \n",
        "*   **Calculate the values of the properties after heat transfer**\n",
        "\n",
        "Furthermore, *the amount of heat added or removed also changes the total temperature of the system*, as obvious from the energy equation:\n",
        "\n",
        "$q + c_{p}T_{0_{1}} = c_{p}T_{0_{2}}$\n",
        "\n",
        "In normal shock wave, everything looks straightforward, that is, you only need to know $M_{1}$ and you will know everything. However, this is not the case for the Rayleigh flow, because the property ratios are the functions of $M_{1}$ and $M_{2}$. See the following relationships:\n",
        "\n",
        "\n",
        "\n",
        "*   $\\frac{p_{2}}{p_{1}}=\\frac{1+\\gamma M_{1}^{2}}{1 + \\gamma M_{2}^{2}}$\n",
        "*   $\\frac{T_{2}}{T_{1}}=\\bigg(\\frac{1+\\gamma M_{1}^{2}}{1 + \\gamma M_{2}^{2}}\\bigg) \\bigg(\\frac{M_{2}}{M_{1}} \\bigg)^{2}$\n",
        "\n",
        "*   $\\frac{\\rho_{2}}{\\rho_{1}}=\\bigg(\\frac{1+\\gamma M_{2}^{2}}{1 + \\gamma M_{1}^{2}}\\bigg) \\bigg(\\frac{M_{1}}{M_{2}} \\bigg)^{2}$\n",
        "\n",
        "*   $\\frac{p_{0_{2}}}{p_{0_{1}}}=\\bigg(\\frac{1+\\gamma M_{1}^{2}}{1 + \\gamma M_{2}^{2}}\\bigg) \\bigg(\\frac{1+\\frac{\\gamma-1}{2}M_{2}^{2}}{1+\\frac{\\gamma-1}{2}M_{1}^{2}} \\bigg)^{\\gamma / (\\gamma-1)}$\n",
        "\n",
        "*   $\\frac{T_{0_{2}}}{T_{0_{1}}}=\\bigg(\\frac{1+\\gamma M_{1}^{2}}{1 + \\gamma M_{2}^{2}}\\bigg)^{2} \\bigg(\\frac{M_{2}}{M_{1}} \\bigg)^{2} \\bigg(\\frac{1+\\frac{\\gamma-1}{2}M_{2}^{2}}{1+\\frac{\\gamma-1}{2}M_{1}^{2}} \\bigg)$\n",
        "\n",
        "Not so convenient because surely it involves trial and errors. To handle this problem, we need the **reference condition** which is defined as the condition where you add or remove a sufficient amount of heat (say, $q^{*}$) so that you reach a sonic condition ($M=1$). Notice that this does not mean that you physically add or remove heat from the actual system, just *imagine* it. Such a condition is denoted with superscript star, say $p^{*}$, which means the static pressure at the sonic condition. By setting $M_{1}=1$ and $M_{2}=M$ ($M$ here means an arbitrary value of Mach number), this is what you get:\n",
        "\n",
        "*   $\\frac{p}{p^{*}}=\\frac{1+\\gamma}{1 + \\gamma M^{2}}$\n",
        "*   $\\frac{T}{T^{*}}= M^{2} \\bigg(\\frac{1+\\gamma}{1 + \\gamma M^{2}}\\bigg)^{2} $\n",
        "\n",
        "*   $\\frac{\\rho}{\\rho^{*}}=\\frac{1}{M^{2}} \\bigg(\\frac{1+\\gamma M^{2}}{1 + \\gamma}\\bigg) $\n",
        "\n",
        "*   $\\frac{p_{0}}{p_{0^{*}}}=\\bigg(\\frac{1+\\gamma}{1 + \\gamma M^{2}}\\bigg) \\bigg(\\frac{2+(\\gamma-1)M^{2}}{\\gamma+1} \\bigg)^{\\gamma / (\\gamma-1)}$\n",
        "\n",
        "*   $\\frac{T_{0}}{T_{0^{*}}}=\\bigg(\\frac{(\\gamma+1)M^{2}}{(1+\\gamma M^{2})^{2}} \\bigg) [2+(\\gamma-1)M^{2}]$\n",
        "\n",
        "These five relationships are tabulated as a function of $M$.\n",
        "\n",
        "For illustration, let's say that you start from $M_{1}=0.5$ and you want to calculate the properties after you add a specified amount of heat $q_{1}$, which eventually yields $M_{2}=0.8$. Now, you know that $M_{2}=0.8$, but it is a value that you want to calculate based on $M_{1}$. Just assume that you know it. \n",
        "\n",
        "If you add a heat with amount $q_{1}^{*}$ to condition 1, you will reach $M=1$. Similarly, you can add $q_{2}^{*}$ to condition 2 and you will reach $M=1$. However, *the reference condition for both Mach numbers is the same*; hence, you know that:\n",
        "\n",
        "$q_{2}^{*}=q_{1}^{*}-q_{1}$"
      ]
    },
    {
      "cell_type": "markdown",
      "metadata": {
        "id": "ED59r73wf4cI"
      },
      "source": [
        "Before you can run the program, you have to define $\\gamma$ (```gamma```) and $R$ (```R```) first (notice that the default $\\gamma$ and $R$ written here are for air). **Execute the following cell first**: \n",
        "\n"
      ]
    },
    {
      "cell_type": "code",
      "metadata": {
        "id": "s1dAQ66Jf60b"
      },
      "source": [
        "gamma = 1.4 # Specific heats\n",
        "R = 287 # Gas constant (air), unit: J/Kg.K"
      ],
      "execution_count": null,
      "outputs": []
    },
    {
      "cell_type": "markdown",
      "metadata": {
        "id": "31NgUcyPf7Zz"
      },
      "source": [
        "To do all the calculations, **you need to run the following program first**:\n",
        "\n",
        "\n",
        "\n",
        "\n",
        "\n",
        "\n",
        "\n",
        "\n"
      ]
    },
    {
      "cell_type": "code",
      "metadata": {
        "id": "RGZX5Imkf-JI",
        "cellView": "form"
      },
      "source": [
        "#@title INITIALIZATION: Run this code first! \n",
        "import numpy as np\n",
        "import matplotlib.pyplot as plt \n",
        "from scipy.optimize import differential_evolution\n",
        "import warnings\n",
        "\n",
        "warnings.filterwarnings(\"ignore\")\n",
        "\n",
        "cp = (gamma*R)/(gamma-1) # heat capacity (air), unit: J/Kg.K\n",
        " \n",
        "''' This is the main program for the Rayleight flow calculator'''\n",
        "def rayleigh_property_calc(M):\n",
        "    p_to_pstar = (1+gamma) / (1+gamma*M**2)\n",
        "    T_to_tstar = (M**2) * (p_to_pstar )**2\n",
        "    rho_to_rhostar = (1/(M**2))*((1+gamma*M**2)/(1+gamma))\n",
        "    p0_to_p0star = (p_to_pstar) * ((2+(gamma-1)*M**2)/ (gamma+1))**(gamma/(gamma-1))\n",
        "    T0_to_T0star = (((gamma+1)*M**2) / (1+gamma*M**2)**2) * (2+(gamma-1)*M**2)\n",
        "  \n",
        "  \n",
        "    return p_to_pstar, T_to_tstar, rho_to_rhostar, p0_to_p0star, T0_to_T0star\n",
        "\n",
        "print('Initialization successful. You can now use the calculator')"
      ],
      "execution_count": null,
      "outputs": []
    },
    {
      "cell_type": "markdown",
      "metadata": {
        "id": "_DnVgS3ThHZ1"
      },
      "source": [
        "Finished? Great. Now you can do the calculation by simply changing ```M``` below (i.e., your $M$):"
      ]
    },
    {
      "cell_type": "code",
      "metadata": {
        "id": "i6HXpPQJhJii"
      },
      "source": [
        "M = 3 # Change this to any Mach number that you want"
      ],
      "execution_count": null,
      "outputs": []
    },
    {
      "cell_type": "markdown",
      "metadata": {
        "id": "8lKt7-MthO2S"
      },
      "source": [
        "**and run the following to calculate the ratio between the properties to the reference properties (this is our primary Rayleigh flow calculator that takes M as the input)**:  \n"
      ]
    },
    {
      "cell_type": "code",
      "metadata": {
        "id": "cNDBZ9hHhixG",
        "cellView": "form",
        "colab": {
          "base_uri": "https://localhost:8080/"
        },
        "outputId": "6a696162-8a3e-4518-ed01-391d8199d257"
      },
      "source": [
        "#@title RAYLEIGH FLOW CALCULATOR: Run this to calculate the ratio between the properties to the reference properties:  \n",
        "p_to_pstar, T_to_tstar, rho_to_rhostar, p0_to_p0star, T0_to_T0star = rayleigh_property_calc(M)\n",
        "print(\"==RAYLEIGH FLOW CALCULATOR==\")\n",
        "print(\"The Mach number is: \" , \"{:.4f}\".format(M))\n",
        "print(\"Your gamma is: \" , \"{:.4f}\".format(gamma))\n",
        "print(\"Your gas constant is: \" , \"{:.4f}\".format(R))\n",
        "print(\"The static pressure ratio is: \" , \"{:.4f}\".format(p_to_pstar))\n",
        "print(\"The static temperature ratio is: \" , \"{:.4f}\".format(T_to_tstar))\n",
        "print(\"The static density ratio is: \" , \"{:.4f}\".format(rho_to_rhostar))\n",
        "print(\"The total pressure ratio is: \" , \"{:.4f}\".format(p0_to_p0star))\n",
        "print(\"The total temperature ratio is: \" , \"{:.4f}\".format(T0_to_T0star))\n"
      ],
      "execution_count": null,
      "outputs": [
        {
          "output_type": "stream",
          "text": [
            "==RAYLEIGH FLOW CALCULATOR==\n",
            "The Mach number is:  2.5000\n",
            "Your gamma is:  1.4000\n",
            "Your gas constant is:  287.0000\n",
            "The static pressure ratio is:  0.2462\n",
            "The static temperature ratio is:  0.3787\n",
            "The static density ratio is:  0.6500\n",
            "The total pressure ratio is:  2.2218\n",
            "The total temperature ratio is:  0.7101\n"
          ],
          "name": "stdout"
        }
      ]
    },
    {
      "cell_type": "markdown",
      "metadata": {
        "id": "sZxbrTVBipQ9"
      },
      "source": [
        "Plotting is not really of interest here, so we will not do any plotting."
      ]
    },
    {
      "cell_type": "markdown",
      "metadata": {
        "id": "W_FjTv5tiyHr"
      },
      "source": [
        "In studying Rayleigh flow, you will notice that you have to find the corresponding $M_{2}$ for a given ratio (e.g., $T_{0_{2}}/ T_{0}^{*}$). Typically you use a table to accomplish this, but I made the following program for you. You just to need input the type of the quantity of interest that you have (i.e., ``` QOItype```) and the value (i.e., ``` value ```):\n",
        "\n",
        "*   ```'p_to_pstar'``` for $p/p^{*}$ \n",
        "*   ```'T_to_Tstar'``` for $T/T^{*}$\n",
        "*   ```'rho_to_rhostar'``` for $\\rho/\\rho^{*}$  \n",
        "*   ```'p0_to_p0star'``` for $p_{0}/p_{0}^{*}$ \n",
        "*   ```'T0_to_T0star'``` for $T_{0}/T_{0}^{*}$  \n",
        "\n",
        "After that, please define your ```regime```, which is either ```'subsonic'``` or ```'supersonic'```.\n",
        "\n",
        "For example, if you want to find $M$ that corresponds to $T_{0}/T_{0}^{*}=0.7835$, please set:\n",
        "\n",
        "```\n",
        "value = 0.7835\n",
        "QOItype = 'T0_to_T0star'\n",
        "regime = 'supersonic'\n",
        "```\n",
        "which will get you $M=2.050253$; if you set ```regime = 'subsonic' ```, then you will get $M=0.569022$\n",
        "\n",
        "**A side note, when considering a supersonic regime, the calculation is only valid for $M<50$. The program will return a warning if the calculation is invalid. Similarly, if you set a weird condition, e.g., ```T0_to_T0star=1.2``` (which is impossible), you will also get a warning** "
      ]
    },
    {
      "cell_type": "code",
      "metadata": {
        "id": "f5miV_q1jcbl"
      },
      "source": [
        "value = 0.8868 # The value that you wish to find the corresponding M, change to any number that you wish\n",
        "QOItype = 'T0_to_T0star' # The QOI that you wish to find the corresponding M, change to any QOI that you wish\n",
        "regime = 'supersonic' # pick 'subsonic' or 'supersonic'"
      ],
      "execution_count": null,
      "outputs": []
    },
    {
      "cell_type": "markdown",
      "metadata": {
        "id": "cWsN7obEkaBn"
      },
      "source": [
        "Now run the following program:"
      ]
    },
    {
      "cell_type": "code",
      "metadata": {
        "id": "CEWnbmtNkaWT",
        "cellView": "form"
      },
      "source": [
        "#@title INVERSE RAYLEIGH FLOW CALCULATOR: Run this program to calculate your M!\n",
        "def find_M2(M2, value, QOItype):\n",
        "    p_to_pstar, T_to_Tstar, rho_to_rhostar, p0_to_p0star, T0_to_T0star = rayleigh_property_calc(M2)\n",
        "    if QOItype == 'p_to_pstar':\n",
        "        error = np.sqrt((value-p_to_pstar)**2)\n",
        "    elif QOItype == 'T_to_Tstar':\n",
        "        error = np.sqrt((value-T_to_Tstar)**2)\n",
        "    elif QOItype == 'rho_to_rhostar':\n",
        "        error = np.sqrt((value-rho_to_rhostar)**2)  \n",
        "    elif QOItype == 'p0_to_p0star':\n",
        "        error = np.sqrt((value-p0_to_p0star)**2)  \n",
        "    elif QOItype == 'T0_to_T0star':\n",
        "        error = np.sqrt((value-T0_to_T0star)**2)  \n",
        "    return error\n",
        "\n",
        "if regime == 'subsonic':\n",
        "   bound = (0,1)\n",
        "elif regime == 'supersonic':\n",
        "   bound = (1,50)\n",
        "\n",
        "results = differential_evolution(find_M2, args=(value, QOItype),bounds= (bound,))\n",
        "print(\"The Mach number is= %f\" % results.x)\n",
        "print(\".. which corresponds to\", QOItype ,\"=\",value,\"in a\",regime,\"regime\")\n",
        "if results.fun > 0.001:\n",
        "    print('WARNING! The Mach number might be invalid')"
      ],
      "execution_count": null,
      "outputs": []
    },
    {
      "cell_type": "markdown",
      "metadata": {
        "id": "isY2t35__n-5"
      },
      "source": [
        "---\n",
        "# Examples\n",
        "\n",
        "**Hint: Use the isentropic flow calculator in the appendix 2 when you need it. You can also use calculator in appendix 1**\n",
        "\n",
        "The following examples are adopted from **Modern Compressible Flow** by **John D. Anderson (second edition)**\n",
        "\n",
        "---\n",
        "\n",
        "\n",
        "**Example 1:** An air enters a constant-area duct at $M_{1}=0.2$, $p_{1}=1 \\text{atm}$, and $T_{1}=273 \\text{K}$. Inside the duct, the heat added per unit mass is $q=1.0 \\times 10^{6} \\text{J/Kg}$. Calculate $M_{2}$, $p_{2}$, $T_{2}$, $\\rho_{2}$, $T_{0_{2}}$, and $p_{0_{2}}$\n",
        "\n",
        "**Solution:** First you need to find the total temperature and total pressure at condition 1 (i.e., $T_{0_{1}}$, and $p_{0_{1}}$, respectively). By using the *isentropic flow calculator*, we obtain for $M_{1}=0.2$: $T_{0_{1}}/T_{1} = 1.008$ and $p_{0_{1}}/p_{1}=1.028$. Hence\n",
        "\n",
        "$T_{0_{1}} = 1.008 T_{1} = 1.008(273) = 275.2 \\text{K}$\n",
        "\n",
        "$p_{0_{1}} = 1.028 T_{1} = 1.028(1) = 1.028 \\text{atm}$\n",
        "\n",
        "For $c_{p}$, $c_{p} = \\frac{\\gamma R}{\\gamma-1} = \\frac{(1.4)(287)}{0.4} = 1005 \\text{J/kg.K}$\n",
        "\n",
        "From the energy equation\n",
        "\n",
        "$T_{0_{2}} = \\frac{q}{c_{p}}+T_{0_{1}} = \\frac{1.0 \\times 10 ^{6}}{1005} + 275.2 = 1270 \\text{K}$\n",
        "\n",
        "Use the *Rayleigh flow calculator* for a fixed $M=0.2$, you will get\n",
        "\n",
        "``` \n",
        "==RAYLEIGH FLOW CALCULATOR==\n",
        "The Mach number is:  0.2000\n",
        "Your gamma is:  1.4000\n",
        "Your gas constant is:  287.0000\n",
        "The static pressure ratio is:  2.2727\n",
        "The static temperature ratio is:  0.2066\n",
        "The static density ratio is:  11.0000\n",
        "The total pressure ratio is:  1.2346\n",
        "The total temperature ratio is:  0.1736 \n",
        "```\n",
        "\n",
        "In particular, you need $T_{1}/T^{*}=0.2066$, $p_{1}/p^{*}=2.273$, $p_{0_{1}}/p_{0}^{*} = 1.235$ and $T_{0_{1}}/T_{0}^{*}=0.1736$ (we round the decimals). Hence,\n",
        "\n",
        "$\\frac{T_{0_{2}}}{T_{0}^{*}} = \\frac{T_{0_{2}}}{T_{0_{1}}} \\frac{T_{0_{1}}}{T_{0}^{*}} = \\frac{1270}{275.2}(0.1736) = 0.8013$\n",
        "\n",
        "Now we have to find the value of $M_{2}$ (subsonic) that yields $\\frac{T_{0_{2}}}{T_{0}^{*}}=0.8013$. Use the other calculator, and you will get\n",
        "\n",
        "```\n",
        "The Mach number is= 0.584183\n",
        ".. which corresponds to T0_to_T0star = 0.8013 in a subsonic regime\n",
        "```\n",
        "\n",
        "Let's take it as $M_{2}=0.58$. Put it back into the Rayleigh flow calculator, and you will get\n",
        "\n",
        "``` \n",
        "==RAYLEIGH FLOW CALCULATOR==\n",
        "The Mach number is:  0.5800\n",
        "Your gamma is:  1.4000\n",
        "Your gas constant is:  287.0000\n",
        "The static pressure ratio is:  1.6316\n",
        "The static temperature ratio is:  0.8955\n",
        "The static density ratio is:  1.8219\n",
        "The total pressure ratio is:  1.0826\n",
        "The total temperature ratio is:  0.7965 \n",
        "```\n",
        "Hence\n",
        "\n",
        "$T_{2} = \\frac{T_{2}}{T^{*}} \\frac{T^{*}}{T_{1}} T_{1} = (0.8955) (\\frac{1}{0.2066}) (273) = 1183 \\text{ K}$\n",
        "\n",
        "$p_{2} = \\frac{p_{2}}{p^{*}} \\frac{p^{*}}{p_{1}} p_{1} = (1.632) (\\frac{1}{2.273}) (1) = 0.718 \\text{ atm}$\n",
        "\n",
        "$p_{0_{2}} = \\frac{p_{0_{2}}}{p_{0}^{*}} \\frac{p_{0}^{*}}{p_{0_{1}}} p_{0_{1}} = (1.083) (\\frac{1}{1.1235}) (1.028) = 0.902 \\text{ atm}$\n",
        "\n",
        "As for $\\rho_{2}$\n",
        "\n",
        "$\\rho_{2} = \\frac{p_{2}}{R T_{2}} = \\frac{(0.718) (1.01 \\times 10^{5}}{(278)(1183)} = 0.214 \\text{ kg/m}^{3}$\n",
        "\n",
        "\n"
      ]
    },
    {
      "cell_type": "markdown",
      "metadata": {
        "id": "io1ff3Ppp-2s"
      },
      "source": [
        "---\n",
        "# Appendix 1: Calculator cell \n",
        "If you are familiar with mathematical operators in Python, you can execute the cell below to do simple calculations. \n",
        "\n",
        "``` \n",
        "# Examples:\n",
        "# To perform 3.5+2.5, type '2.5+3.5'\n",
        "# To perform 3.5-2.5, type '3.5-2.5'\n",
        "# To multiply 3.5 with 2.5, type '3.5*2.5'\n",
        "# To divide 3.5 with 2.5, type '3.5/2.5'\n",
        "```"
      ]
    },
    {
      "cell_type": "code",
      "metadata": {
        "id": "wA2WV6Bdp_nO"
      },
      "source": [
        ""
      ],
      "execution_count": null,
      "outputs": []
    },
    {
      "cell_type": "markdown",
      "metadata": {
        "id": "zKwyYMZXgUYk"
      },
      "source": [
        "---\n",
        "\n",
        "# Appendix 2: Isentropic Flow Calculator\n",
        "For your convenience, you can use the isentropic flow calculator below by inputting your Mach number (i.e., ```M_isen```). You will obtain the following ratios:\n",
        "\n",
        "\n",
        "\n",
        "*   $\\frac{T_{0}}{T} = 1 + \\frac{\\gamma-1}{2}M^{2}$\n",
        "*  $\\frac{p_{0}}{p} = \\bigg(1 + \\frac{\\gamma-1}{2}M^{2}\\bigg)^{\\frac{\\gamma}{\\gamma-1}}$\n",
        "*  $\\frac{\\rho_{0}}{\\rho} = \\bigg(1 + \\frac{\\gamma-1}{2}M^{2}\\bigg)^{\\frac{1}{\\gamma-1}}$\n",
        "\n",
        "Please input your ```M_isen``` below and don't forget to execute it`:"
      ]
    },
    {
      "cell_type": "code",
      "metadata": {
        "id": "4yIinLqhgtAe"
      },
      "source": [
        "M_isen = 3 # Change this to any Mach number that you wish for the isentropic flow calculator"
      ],
      "execution_count": null,
      "outputs": []
    },
    {
      "cell_type": "markdown",
      "metadata": {
        "id": "oLLJst-Dg-Xp"
      },
      "source": [
        "After that, just simply run the program below to obtain $\\frac{T_{0}}{T}$, $\\frac{p_{0}}{p}$, and $\\frac{\\rho_{0}}{\\rho}$:"
      ]
    },
    {
      "cell_type": "code",
      "metadata": {
        "id": "IvneoQ9Xg80P",
        "cellView": "form",
        "colab": {
          "base_uri": "https://localhost:8080/"
        },
        "outputId": "4383f1bb-f888-4689-cae5-279bd515666a"
      },
      "source": [
        "#@title Run the isentropic flow calculator!\n",
        "def isentropic_calc(M_isen):\n",
        "  ''' This program calculates the ratio of total to static properties for a \n",
        "  given Mach number'''\n",
        "  T0_to_t = 1+((gamma-1)/2)*M_isen**2\n",
        "  p0_to_p = (T0_to_t)**(gamma/(gamma-1))\n",
        "  rho0_to_rho = (T0_to_t)**(1/(gamma-1))\n",
        "  return T0_to_t, p0_to_p, rho0_to_rho\n",
        " \n",
        "#@title Run this to calculate the properties behind the normal shock wave!\n",
        "T0_to_t, p0_to_p, rho0_to_rho = isentropic_calc(M_isen)\n",
        "print(\"The Mach number is: \" , \"{:.4f}\".format(M_isen))\n",
        "print(\"The ratio of the total and static temperature is: \" , \"{:.4f}\".format(T0_to_t))\n",
        "print(\"The ratio of the total and static pressure is: \" , \"{:.4f}\".format(p0_to_p))\n",
        "print(\"The ratio of the total and static density is: \" , \"{:.4f}\".format(rho0_to_rho))"
      ],
      "execution_count": null,
      "outputs": [
        {
          "output_type": "stream",
          "text": [
            "The Mach number is:  3.0000\n",
            "The ratio of the total and static temperature is:  2.8000\n",
            "The ratio of the total and static pressure is:  36.7327\n",
            "The ratio of the total and static density is:  13.1188\n"
          ],
          "name": "stdout"
        }
      ]
    }
  ]
}