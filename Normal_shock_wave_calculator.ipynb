{
  "nbformat": 4,
  "nbformat_minor": 0,
  "metadata": {
    "colab": {
      "name": "Normal_shock_wave_calculator.ipynb",
      "provenance": [],
      "collapsed_sections": [],
      "authorship_tag": "ABX9TyNeBot7v/oHNbXpVmxel5h/",
      "include_colab_link": true
    },
    "kernelspec": {
      "name": "python3",
      "display_name": "Python 3"
    }
  },
  "cells": [
    {
      "cell_type": "markdown",
      "metadata": {
        "id": "view-in-github",
        "colab_type": "text"
      },
      "source": [
        "<a href=\"https://colab.research.google.com/github/pramsatriapalar/aero_fluid_teaching_materials/blob/main/Normal_shock_wave_calculator.ipynb\" target=\"_parent\"><img src=\"https://colab.research.google.com/assets/colab-badge.svg\" alt=\"Open In Colab\"/></a>"
      ]
    },
    {
      "cell_type": "markdown",
      "metadata": {
        "id": "tOwFzuhDtNt7"
      },
      "source": [
        "# Normal Shock Wave Simple Calculator\n",
        "\n",
        "###Written by: [Pramudita Satria Palar](https://sites.google.com/view/pramudita-satria-palar/home) (Bandung Institute of Technology, Indonesia)\n",
        "\n",
        "###Last updated: 21-9-2020\n",
        "\n",
        "### References: \n",
        "\n",
        "*   Anderson Jr, John David. Fundamentals of aerodynamics\n",
        "*   Anderson Jr, John David. Modern Compressible Flow\n",
        "\n",
        "**Note: You have to log-in to your gmail account first before you can run all the programs in this notebook.**\n",
        "\n"
      ]
    },
    {
      "cell_type": "markdown",
      "metadata": {
        "id": "uzgtL4qtzWCT"
      },
      "source": [
        "Nomenclature:\n",
        "*   $c_{p}$ = specific heat\n",
        "*   $p$ = static pressure\n",
        "*   $p_{0}$ = total pressure\n",
        "*   $R$ = gas constant\n",
        "*   $T$ = static temperature\n",
        "*   $T_{0}$ = total temperature\n",
        "*   $s$ = entropy\n",
        "*   $\\gamma$ = heat capacity ratio\n",
        "*   $\\rho$ = static density\n",
        "*   $M_{1}$ = Mach number in front of shock wave\n",
        "*   $M_{2}$ = Mach number behind the shock wave\n",
        "\n"
      ]
    },
    {
      "cell_type": "markdown",
      "metadata": {
        "id": "GVUME4pBr1oe"
      },
      "source": [
        "This python notebook calculates the flow properties behind the normal shock wave. You need to input the Mach number ahead of the shock wave (i.e., $M_{1}$)  to simultaneously calculate all properties behind the normal shock wave. I won't explain the derivation of all the equations, so make sure that you read excellent textbooks such as **Fundamental of Aerodynamics** by John D. Anderson first.\n",
        " \n",
        "A little bit about the physics first. A flow that passes through a shock wave is characterized by a jump in almost every flow properties, e.g., the static pressure and the static temperature that significantly increase. A flow that passes a normal shock wave is a non-isentropic flow since the inside of a normal shock wave is a highly viscous region. Due to this irreversibility, the total pressure (i.e., $P_{0}$) drops after the flow passes the shock wave. However, notice that the total temperature (i.e., $T_{0}$) does not change across the normal shock wave (adiabatic); this is simply because there is no heat transfer occurs inside a normal shock wave. Notice that I use the subscript 1 and 2 to denote the properties ahead and behind the shock wave, respectively. \n",
        " \n",
        " \n",
        " \n",
        " \n",
        "The basic objective when studying a normal shock wave is actually simple, that is,\n",
        " \n",
        "*   **Calculate the values of the properties behind the shock wave.**\n",
        " \n",
        "To answer this, the nice thing is that we only need to know $M_{1}$ to know $M_{2}$ and the ratio of all the properties (say, $p_{2}/p_{1}$, $T_{2}/T_{1}$). So if you know, say, $p_{1}$, you can calculate $p_{2}$ simply by knowing $p_{2}/p_{1}$. In the following calculations, the gas is an air ($R=287.5$ J/Kg.K, $\\gamma=1.4$), where the $c_{p}$ is calculated by $c_{p} = (\\gamma R)/(\\gamma-1)$. However, you can change $R$ and $\\gamma$ by yourself. The equations that we will use to calculate the ratios and the entropy change are written below:\n",
        " \n",
        " \n",
        "*  $\\frac{p_{2}}{p_{1}} = 1 + \\frac{2\\gamma}{\\gamma+1}(M_{1}^{2}-1)$\n",
        "\n",
        "---\n",
        "\n",
        "\n",
        "*  $\\frac{T_{2}}{T_{1}} = \\frac{h_{2}}{h_{1}} = \\bigg[1 + \\frac{2\\gamma}{\\gamma+1}(M_{1}^{2}-1)\\bigg] \\frac{2+(\\gamma-1)M_{1}^{2}}{(\\gamma+1)M_{1}^{2}} $\n",
        "*  $\\frac{\\rho_{2}}{\\rho_{1}} = \\frac{(\\gamma+1)M_{1}^{2}}{2+(\\gamma-1)M_{1}^{2}}$\n",
        "*  $s_{2}-s_{1} = c_{p} \\text{ ln }(\\frac{T_{2}}{T_{1}})-R \\text{ ln }(\\frac{p_{2}}{p_{1}})$\n",
        "*  $\\frac{p_{0_{2}}}{p_{0_{1}}} = \\text{e}^{-(s_{2}-s_{1})/R}$\n",
        " \n",
        " \n",
        "---"
      ]
    },
    {
      "cell_type": "markdown",
      "metadata": {
        "id": "ifXZbM-IiErL"
      },
      "source": [
        "Before you can run the program, you have to define $\\gamma$ (```gamma```) and $R$ (```R```) first (notice that the default $\\gamma$ and $R$ written here are for air). **Execute the following cell first**: \n",
        "\n"
      ]
    },
    {
      "cell_type": "code",
      "metadata": {
        "id": "BUxf0wQriDiN"
      },
      "source": [
        "gamma = 1.4 # Specific heats\n",
        "R = 287 # Gas constant (air), unit: J/Kg.K"
      ],
      "execution_count": null,
      "outputs": []
    },
    {
      "cell_type": "markdown",
      "metadata": {
        "id": "gVsCK7pN03f-"
      },
      "source": [
        "To do all the calculations, **you need to run the following program first**:\n",
        "\n",
        "\n",
        "\n",
        "\n",
        "\n",
        "\n",
        "\n",
        "\n"
      ]
    },
    {
      "cell_type": "code",
      "metadata": {
        "id": "9tLEINrSkMhZ"
      },
      "source": [
        "#@title Run this code first! \n",
        "import numpy as np\n",
        "import matplotlib.pyplot as plt \n",
        " \n",
        "cp = (gamma*R)/(gamma-1) # heat capacity (air), unit: J/Kg.K\n",
        " \n",
        "def property_calc(M1):\n",
        "    if M1 < 1:\n",
        "       raise ValueError(\"M1 should be higher than 1\")\n",
        "    M2 = np.sqrt((1+((gamma-1)/2)*(M1**2)) / (gamma*M1**2 - (gamma-1)/2)) # Mach number behind the shock wave\n",
        "    p2_to_p1 = 1 + ((2*gamma)/(gamma+1))*(M1**2-1) # Ratio of static pressure\n",
        "    T2_to_T1 = (p2_to_p1)*((2+(gamma-1)*M1**2)/((gamma+1)*M1**2)) # Ratio of static temperature\n",
        "    rho2_to_rho1 = ((gamma+1)*M1**2) / (2+(gamma-1)*M1**2) # Ratio of static density\n",
        "    s2_s1 = cp*np.log(T2_to_T1) - R*np.log(p2_to_p1)\n",
        "    p02_to_p01 = np.exp(-(s2_s1)/R)\n",
        "  \n",
        "    return M2, p2_to_p1, T2_to_T1, rho2_to_rho1, s2_s1, p02_to_p01"
      ],
      "execution_count": null,
      "outputs": []
    },
    {
      "cell_type": "markdown",
      "metadata": {
        "id": "4yIVcI143GFZ"
      },
      "source": [
        "Finished? Great. Now you can do the calculation by simply changing ```M1``` below (i.e., your $M_{1}$):"
      ]
    },
    {
      "cell_type": "code",
      "metadata": {
        "id": "QE2W4ysl388t",
        "cellView": "code"
      },
      "source": [
        "M1 = 3 # Change this to any Mach number (ahead of the shock wave) that you want"
      ],
      "execution_count": null,
      "outputs": []
    },
    {
      "cell_type": "markdown",
      "metadata": {
        "id": "uEfDyMK33-Ae"
      },
      "source": [
        "and run the following to calculate the properties behind the normal shock wave\n",
        "(Notice that the program will return an error if $M_{1}$ is lower than 1!). "
      ]
    },
    {
      "cell_type": "code",
      "metadata": {
        "id": "lBQNOTDD3Ex_",
        "cellView": "form",
        "colab": {
          "base_uri": "https://localhost:8080/"
        },
        "outputId": "3f141ec4-acd5-43da-d3e9-43497429091c"
      },
      "source": [
        "#@title Run this to calculate the properties behind the normal shock wave!\n",
        "M2s, p2_to_p1s, T2_to_T1s, rho2_to_rho1s, s2_s1, p02_to_p01 = property_calc(M1)\n",
        "print(\"The Mach number ahead of the shock wave is: \" , \"{:.4f}\".format(M1))\n",
        "print(\"Your gamma is: \" , \"{:.4f}\".format(gamma))\n",
        "print(\"Your gas constant is: \" , \"{:.4f}\".format(R))\n",
        "print(\"The mach number behind the shock wave is: \" , \"{:.4f}\".format(M2s))\n",
        "print(\"The static pressure ratio is: \" , \"{:.4f}\".format(p2_to_p1s))\n",
        "print(\"The static temperature ratio is: \" , \"{:.4f}\".format(T2_to_T1s))\n",
        "print(\"The static density ratio is: \" , \"{:.4f}\".format(rho2_to_rho1s))\n",
        "print(\"The total pressure ratio is: \" , \"{:.4f}\".format(p02_to_p01))\n",
        "print(\"The entropy change is: \" , \"{:.4f}\".format(s2_s1), \"J/Kg.K\")"
      ],
      "execution_count": null,
      "outputs": [
        {
          "output_type": "stream",
          "name": "stdout",
          "text": [
            "The Mach number ahead of the shock wave is:  3.0000\n",
            "Your gamma is:  1.4000\n",
            "Your gas constant is:  287.0000\n",
            "The mach number behind the shock wave is:  0.4752\n",
            "The static pressure ratio is:  10.3333\n",
            "The static temperature ratio is:  2.6790\n",
            "The static density ratio is:  3.8571\n",
            "The total pressure ratio is:  0.3283\n",
            "The entropy change is:  319.6301 J/Kg.K\n"
          ]
        }
      ]
    },
    {
      "cell_type": "markdown",
      "metadata": {
        "id": "oHnRJZr0us0l"
      },
      "source": [
        "---\n",
        "\n",
        "# Plotting\n",
        "\n",
        "\n",
        "Now you want to do more than just calculating a value behind the normal shock wave for a specific $M_{1}$. That is, now you want to create a plot that depicts the trend of the flow properties as a function of $M_{1}$. No worries, please do the following.\n",
        "\n",
        "The plot starts from $M_{1}=1$, and you have to change the upper bound of your plot (```M1_ub```) to any value that you wish (say, if you want to plot from $M_{1}=1$ to $M_{1}=10$, write ```M1_ub=10```) .  To select the quantity of interest that you want to plot, please change ```QOI``` to \n",
        "\n",
        "*   ```'M2'``` for $M_{2}$\n",
        "*   ```'p_ratio'``` for $P_{2}/P_{1}$ \n",
        "*   ```'T_ratio'``` for $T_{2}/T_{1}$\n",
        "*   ```'rho_ratio'``` for $\\rho_{2}/\\rho_{1}$  \n",
        "*   ```'delta_s'``` for $s_{2}-s_{1}$ \n",
        "*   ```'p0_ratio'``` for $\\frac{p_{0_{2}}}{p_{0_{1}}}$ \n",
        "\n"
      ]
    },
    {
      "cell_type": "code",
      "metadata": {
        "id": "Emsni1RV2NQM"
      },
      "source": [
        "M1_ub = 30 # Upper bound for the plot\n",
        "QOI = 'p_ratio' # quantity of interest"
      ],
      "execution_count": null,
      "outputs": []
    },
    {
      "cell_type": "markdown",
      "metadata": {
        "id": "0NVWxDTG15om"
      },
      "source": [
        "Now run the following code:"
      ]
    },
    {
      "cell_type": "code",
      "metadata": {
        "id": "P7Hlj6Czqlnn",
        "cellView": "form",
        "colab": {
          "base_uri": "https://localhost:8080/",
          "height": 300
        },
        "outputId": "05b73929-6023-439e-f587-465cf7e9bfab"
      },
      "source": [
        "#@title Run this to create the plot!\n",
        "M1a = np.arange(1,M1_ub-0.01,0.01)\n",
        "M2a = np.zeros(len(M1a))\n",
        "p2_to_p1a = np.zeros(len(M1a))\n",
        "T2_to_T1a = np.zeros(len(M1a))\n",
        "rho2_to_rho1a = np.zeros(len(M1a))\n",
        "s2_s1a = np.zeros(len(M1a))\n",
        "p02_to_p01a = np.zeros(len(M1a))\n",
        " \n",
        "for i in range(len(M1a)):\n",
        "    M2a[i] , p2_to_p1a[i], T2_to_T1a[i], rho2_to_rho1a[i], s2_s1a[i], p02_to_p01a[i] = property_calc(M1a[i])\n",
        " \n",
        "QOIdict =   {\n",
        "  \"M2\": 0,\n",
        "  \"p_ratio\": 1,\n",
        "  \"T_ratio\": 2,\n",
        "  \"rho_ratio\": 3,\n",
        "  \"delta_s\": 4,\n",
        "  \"p0_ratio\": 5\n",
        "}\n",
        " \n",
        "# Plot the figures\n",
        "ident = QOIdict[QOI]\n",
        "fig = plt.figure()\n",
        "ax = plt.axes()\n",
        "if ident == 0:\n",
        "    plt.plot(M1a, M2a)\n",
        "    plt.xlabel(\"$M_{1}$\")\n",
        "    plt.ylabel(\"$M_{2}$\");\n",
        "    plt.title(\"$M_{1}$ vs $M_{2}$\")\n",
        "elif ident == 1:\n",
        "    plt.plot(M1a, p2_to_p1a)\n",
        "    plt.xlabel(\"$M_{1}$\")\n",
        "    plt.ylabel(\"$p_{2}/p_{1}$\");\n",
        "    plt.title(\"$M_{1}$ vs $p_{2}/p_{1}$\")\n",
        "elif ident == 2:\n",
        "    plt.plot(M1a, T2_to_T1a)\n",
        "    plt.xlabel(\"$M_{1}$\")\n",
        "    plt.ylabel(\"$T_{2}/T_{1}$\");\n",
        "    plt.title(\"$M_{1}$ vs $T_{2}/T_{1}$\")\n",
        "elif ident == 3:\n",
        "    plt.plot(M1a, rho2_to_rho1a)\n",
        "    plt.xlabel(\"$M_{1}$\")\n",
        "    plt.ylabel(\"$\\\\rho_{2}/\\\\rho_{1}$\");\n",
        "    plt.title(\"$M_{1}$ vs $\\\\rho_{2}/\\\\rho_{1}$\")\n",
        "elif ident == 4:\n",
        "    plt.plot(M1a, s2_s1a)\n",
        "    plt.xlabel(\"$M_{1}$\")\n",
        "    plt.ylabel(\"$s_{2}-s_{1}$ (J/Kg.K)\");\n",
        "    plt.title(\"$M_{1}$ vs $s_{2}-s_{1}$\")  \n",
        "elif ident == 5:\n",
        "    plt.plot(M1a, p02_to_p01a)\n",
        "    plt.xlabel(\"$M_{1}$\")\n",
        "    plt.ylabel(\"$p_{0_{2}}/p_{0_{1}}$\");\n",
        "    plt.title(\"$M_{1}$ vs $p_{0_{2}}/p_{0_{1}}$\")"
      ],
      "execution_count": null,
      "outputs": [
        {
          "output_type": "display_data",
          "data": {
            "image/png": "[encoded data removed]",
            "text/plain": [
              "<Figure size 432x288 with 1 Axes>"
            ]
          },
          "metadata": {
            "needs_background": "light"
          }
        }
      ]
    },
    {
      "cell_type": "markdown",
      "metadata": {
        "id": "-qbyVfO_q27c"
      },
      "source": [
        "---\n",
        "That's it! Probably I will add more later. But for now, how about if you try answering the following questions by playing with the plot:\n",
        "\n",
        "*    **What will happen to the static temperature, static pressure, static density, and total pressure increase or decrease across the normal shock wave? Will they increase or decrease?**\n",
        "*   **What will happen to the flow properties if $M_{1}$ goes to $\\infty$?**\n",
        "\n",
        "To do the last one, you can set ```M1_ub``` to a very large value and see what will happen! \n",
        "\n",
        "Have fun! I have some examples below if you want to put the program into practice.\n",
        "\n"
      ]
    },
    {
      "cell_type": "markdown",
      "metadata": {
        "id": "ilzExrwOyebf"
      },
      "source": [
        "---\n",
        "# Examples\n",
        "\n",
        "**Hint: Use the isentropic flow calculator in the appendix 2 when you need it. You can also use calculator in appendix 1**\n",
        "\n",
        "The following examples are adopted from **Modern Compressible Flow** by **John D. Anderson (second edition)**\n",
        "\n",
        "\n",
        "\n",
        "---\n",
        "\n",
        "\n",
        "**Example 1:** A normal shock wave is standing inside the supersonic inlet of a fighter aircraft. In front on the shock, we have $M_{1}=3$, $p_{1}=0.5$ atm , and $T_{1}=200$K. Please calculate $M_{2}$, $p_{2}$, and $T_{2}$ (across the shock wave).\n",
        "\n",
        "**Solution:** By using and inputting ```M1 = 3 ``` to the program, we will obtain:\n",
        "\n",
        "``` The Mach number ahead of the shock wave is:  3.0000\n",
        "Your gamma is:  1.4000\n",
        "Your gas constant is:  287.0000\n",
        "The mach number behind the shock wave is:  0.4752\n",
        "The static pressure ratio is:  10.3333\n",
        "The static temperature ratio is:  2.6790\n",
        "The static density ratio is:  3.8571\n",
        "The total pressure ratio is:  0.3283\n",
        "The entropy change is:  319.6301 J/Kg.K\n",
        "```\n",
        "Hence\n",
        "\n",
        "\n",
        "*   $p_{2} = \\frac{p_{2}}{p_{1}} p_{1} = 10.3333(0.5) = \\boldsymbol{5.165} \\text{ atm} $\n",
        "*   $T_{2} = \\frac{T_{2}}{T_{1}} T_{1} = 2.679(200) = \\boldsymbol{535.8} \\text{ K}$\n",
        "*   $a_{2} = \\sqrt{\\gamma R T_{2}} = \\sqrt{(1.4)(287)(535.8)} = \\boldsymbol{464} \\text{ m/s} $\n",
        "*   $u_{2} = M_{2} a_{2} = (0.4752)(464) = \\boldsymbol{220} \\text{ m/s}$\n",
        "\n",
        "\n",
        "\n",
        "---\n",
        "**Example 2:** A supersonic aircraft is flying at Mach 3 at standard sea level. Calculate the temperature and pressure at the nose of the aircraft.\n",
        "\n",
        "**Solution** At standard sea level, we have $T_{1}=288.15$ K and $p_{1} =1$ atm. Since the aircraft is flying at Mach 3, a bow shock wave occurs and the streamline through the nose of the aircraft (which is a stagnation point) passed the normal portion of the bow shock wave. Remember that the properties in the stagnation point are total properties, hence, we need to calculate $p_{0_{2}}$ and $T_{0_{2}}$.\n",
        "\n",
        "First, remember that $T_{0_{1}} = T_{0_{2}}$, so that you need to calculate $T_{0_{1}}$ first. To do just that, call your isentropic flow calculator to obtain $T_{0_{1}}/T_{1} = 2.8$ (for $M_{1}=3$). Subsequently\n",
        "\n",
        "$T_{0_{2}} = T_{0_{1}} = \\frac{T_{0_{1}}}{T_{1}}T_{1} = 2.8(288.15) = 806$ K\n",
        "\n",
        "How about $p_{0_{2}}$? First, you need to obtain $p_{0_{2}}/p_{0_{1}}$ (from the normal shock calculator) and $p_{0_{1}}/p_{1}$ (from the isentropic flow calculator). You will get $p_{0_{2}}/p_{0_{1}}=0.3283$ and $p_{0_{1}}/p_{1}=36.7327$ Hence\n",
        "\n",
        "$p_{0_{2}}= \\frac{p_{0_{2}}}{p_{0_{1}}} \\frac{p_{0_{1}}}{p_{1}} p_{1} = (0.3283) (36.7237)(1) = 12.0563 \\text { atm} $\n",
        "\n"
      ]
    },
    {
      "cell_type": "markdown",
      "metadata": {
        "id": "io1ff3Ppp-2s"
      },
      "source": [
        "---\n",
        "# Appendix 1: Calculator cell \n",
        "If you are familiar with mathematical operators in Python, you can execute the cell below to do simple calculations. \n",
        "\n",
        "``` \n",
        "# Examples:\n",
        "# To perform 3.5+2.5, type '2.5+3.5'\n",
        "# To perform 3.5-2.5, type '3.5-2.5'\n",
        "# To multiply 3.5 with 2.5, type '3.5*2.5'\n",
        "# To divide 3.5 with 2.5, type '3.5/2.5'\n",
        "```"
      ]
    },
    {
      "cell_type": "code",
      "metadata": {
        "id": "wA2WV6Bdp_nO",
        "colab": {
          "base_uri": "https://localhost:8080/",
          "height": 35
        },
        "outputId": "97978855-0557-4b39-f2cd-ee54c226d294"
      },
      "source": [
        "2.258/3.6191"
      ],
      "execution_count": null,
      "outputs": [
        {
          "output_type": "execute_result",
          "data": {
            "text/plain": [
              "0.6239120223259926"
            ]
          },
          "metadata": {
            "tags": []
          },
          "execution_count": 11
        }
      ]
    },
    {
      "cell_type": "markdown",
      "metadata": {
        "id": "zKwyYMZXgUYk"
      },
      "source": [
        "---\n",
        "\n",
        "# Appendix 2: Isentropic Flow Calculator\n",
        "For your convenience, you can use the isentropic flow calculator below by inputting your Mach number (i.e., ```M_isen```). You will obtain the following ratios:\n",
        "\n",
        "\n",
        "\n",
        "*   $\\frac{T_{0}}{T} = 1 + \\frac{\\gamma-1}{2}M^{2}$\n",
        "*  $\\frac{p_{0}}{p} = \\bigg(1 + \\frac{\\gamma-1}{2}M^{2}\\bigg)^{\\frac{\\gamma}{\\gamma-1}}$\n",
        "*  $\\frac{\\rho_{0}}{\\rho} = \\bigg(1 + \\frac{\\gamma-1}{2}M^{2}\\bigg)^{\\frac{1}{\\gamma-1}}$\n",
        "\n",
        "Please input your ```M_isen``` below and don't forget to execute it`:"
      ]
    },
    {
      "cell_type": "code",
      "metadata": {
        "id": "4yIinLqhgtAe"
      },
      "source": [
        "M_isen = 0.4752  # Change this to any Mach number that you wish for the isentropic flow calculator"
      ],
      "execution_count": null,
      "outputs": []
    },
    {
      "cell_type": "markdown",
      "metadata": {
        "id": "oLLJst-Dg-Xp"
      },
      "source": [
        "After that, just simply run the program below to obtain $\\frac{T_{0}}{T}$, $\\frac{p_{0}}{p}$, and $\\frac{\\rho_{0}}{\\rho}$:"
      ]
    },
    {
      "cell_type": "code",
      "metadata": {
        "id": "IvneoQ9Xg80P",
        "cellView": "form",
        "colab": {
          "base_uri": "https://localhost:8080/",
          "height": 91
        },
        "outputId": "d709826a-0b89-4ed0-afb5-893e2c66e3dc"
      },
      "source": [
        "#@title Run the isentropic flow calculator!\n",
        "def isentropic_calc(M_isen):\n",
        "  ''' This program calculates the ratio of total to static properties for a \n",
        "  given Mach number'''\n",
        "  T0_to_t = 1+((gamma-1)/2)*M_isen**2\n",
        "  p0_to_p = (T0_to_t)**(gamma/(gamma-1))\n",
        "  rho0_to_rho = (T0_to_t)**(1/(gamma-1))\n",
        "  return T0_to_t, p0_to_p, rho0_to_rho\n",
        " \n",
        "#@title Run this to calculate the properties behind the normal shock wave!\n",
        "T0_to_t, p0_to_p, rho0_to_rho = isentropic_calc(M_isen)\n",
        "print(\"The Mach number is: \" , \"{:.4f}\".format(M_isen))\n",
        "print(\"The ratio of the total and static temperature is: \" , \"{:.4f}\".format(T0_to_t))\n",
        "print(\"The ratio of the total and static pressure is: \" , \"{:.4f}\".format(p0_to_p))\n",
        "print(\"The ratio of the total and static density is: \" , \"{:.4f}\".format(rho0_to_rho))"
      ],
      "execution_count": null,
      "outputs": [
        {
          "output_type": "stream",
          "text": [
            "The Mach number is:  0.4752\n",
            "The ratio of the total and static temperature is:  1.0452\n",
            "The ratio of the total and static pressure is:  1.1672\n",
            "The ratio of the total and static density is:  1.1168\n"
          ],
          "name": "stdout"
        }
      ]
    }
  ]
}