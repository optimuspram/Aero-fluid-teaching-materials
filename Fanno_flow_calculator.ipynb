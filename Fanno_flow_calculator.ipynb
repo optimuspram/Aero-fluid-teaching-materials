{
  "nbformat": 4,
  "nbformat_minor": 0,
  "metadata": {
    "colab": {
      "name": "Fanno_flow_calculator.ipynb",
      "provenance": [],
      "authorship_tag": "ABX9TyPF0f87PMAIDsoifA0sFedb",
      "include_colab_link": true
    },
    "kernelspec": {
      "name": "python3",
      "display_name": "Python 3"
    }
  },
  "cells": [
    {
      "cell_type": "markdown",
      "metadata": {
        "id": "view-in-github",
        "colab_type": "text"
      },
      "source": [
        "<a href=\"https://colab.research.google.com/github/pramsatriapalar/aero_fluid_teaching_materials/blob/main/Fanno_flow_calculator.ipynb\" target=\"_parent\"><img src=\"https://colab.research.google.com/assets/colab-badge.svg\" alt=\"Open In Colab\"/></a>"
      ]
    },
    {
      "cell_type": "markdown",
      "metadata": {
        "id": "87f9kyq7sXb5"
      },
      "source": [
        "# Fanno flow Simple Calculator\n",
        "\n",
        "###Written by: [Pramudita Satria Palar](https://sites.google.com/view/pramudita-satria-palar/home) (Bandung Institute of Technology, Indonesia)\n",
        "\n",
        "###Last updated: 3-10-2020\n",
        "\n",
        "### References: \n",
        "\n",
        "*   Anderson Jr, John David. Modern Compressible Flow\n",
        "\n",
        "**Note: You have to log-in to your gmail account first before you can run all the programs in this notebook.**\n",
        "\n"
      ]
    },
    {
      "cell_type": "markdown",
      "metadata": {
        "id": "PIwbCgOcsazO"
      },
      "source": [
        "Nomenclature:\n",
        "*   $c_{p}$ = specific heat\n",
        "*   $D$ = Diameter of the ircular tube's cross section\n",
        "*   $L$ = Length of the pipe\n",
        "*   $p$ = static pressure\n",
        "*   $q$ = heat transfer\n",
        "*   $p_{0}$ = total pressure\n",
        "*   $R$ = gas constant\n",
        "*   $T$ = static temperature\n",
        "*   $T_{0}$ = total temperature\n",
        "*   $s$ = entropy\n",
        "*   $\\gamma$ = heat capacity ratio\n",
        "*   $\\rho$ = static density\n",
        "*   $M_{1}$ = Initial Mach number\n",
        "*   $M_{2}$ = Mach number after the flow passes $L$\n",
        "\n",
        "The superscript star (i.e., $^{*}$) denotes the reference (sonic condition)\n",
        "\n"
      ]
    },
    {
      "cell_type": "markdown",
      "metadata": {
        "id": "iV77aQpptACA"
      },
      "source": [
        "Some important equations that you need to know:\n",
        "\n",
        "$\\frac{T}{T^{*}} = \\frac{\\gamma+1}{2+(\\gamma-1)M^{2}}$\n",
        "\n",
        "$\\frac{p}{p^{*}}=\\frac{1}{M}\\bigg[ \\frac{\\gamma+1}{2+(\\gamma-1)M^{2}}\\bigg]^{1/2}$\n",
        "\n",
        "$\\frac{\\rho}{\\rho^{*}}=\\frac{1}{M}\\bigg[ \\frac{2+(\\gamma-1)M^{2}}{\\gamma+1}\\bigg]^{1/2}$\n",
        "\n",
        "$\\frac{p_{0}}{p_{0}^{*}}=\\frac{1}{M}\\bigg[ \\frac{2+(\\gamma-1)M^{2}}{\\gamma+1}\\bigg]^{(\\gamma+1)/[(2(\\gamma-1)]}$\n",
        "\n",
        "$\\frac{4\\bar{f}L^{*}}{D}=\\frac{1-M^{2}}{\\gamma M^{2}}+\\frac{1-M^{2}}{\\gamma M^{2}} + \\frac{\\gamma+1}{2\\gamma} \\text{ln} \\bigg[ \\frac{\\gamma+1}{2+(\\gamma-1)M^{2}}\\bigg]$"
      ]
    },
    {
      "cell_type": "markdown",
      "metadata": {
        "id": "N7eCLKNnqQxu"
      },
      "source": [
        "Before you can run the program, you have to define $\\gamma$ (```gamma```) and $R$ (```R```) first (notice that the default $\\gamma$ and $R$ written here are for air). **Execute the following cell first**: \n",
        "\n"
      ]
    },
    {
      "cell_type": "code",
      "metadata": {
        "id": "s1dAQ66Jf60b"
      },
      "source": [
        "gamma = 1.4 # Specific heats\n",
        "R = 287 # Gas constant (air), unit: J/Kg.K"
      ],
      "execution_count": null,
      "outputs": []
    },
    {
      "cell_type": "markdown",
      "metadata": {
        "id": "6cVrYcZYnuip"
      },
      "source": [
        "To do all the calculations, **you need to run the following program first**:\n",
        "\n",
        "\n",
        "\n",
        "\n",
        "\n",
        "\n",
        "\n",
        "\n"
      ]
    },
    {
      "cell_type": "code",
      "metadata": {
        "id": "RGZX5Imkf-JI",
        "cellView": "form",
        "colab": {
          "base_uri": "https://localhost:8080/"
        },
        "outputId": "4b2f5df0-ac59-43ff-dcdb-6036075c6ff8"
      },
      "source": [
        "#@title INITIALIZATION: Run this code first! \n",
        "import numpy as np\n",
        "import matplotlib.pyplot as plt \n",
        "from scipy.optimize import differential_evolution\n",
        "import warnings\n",
        "\n",
        "warnings.filterwarnings(\"ignore\")\n",
        "\n",
        "cp = (gamma*R)/(gamma-1) # heat capacity (air), unit: J/Kg.K\n",
        " \n",
        "''' This is the main program for the Fanno flow calculator'''\n",
        "def fanno_property_calc(M):\n",
        "    T_to_tstar = (gamma+1) / (2+(gamma-1)*M**2)\n",
        "    p_to_pstar =  (1/M)*np.sqrt(T_to_tstar)\n",
        "    rho_to_rhostar =  (1/M)*np.sqrt(1/T_to_tstar)\n",
        "    p0_to_p0star = (1/M)*(1/T_to_tstar)**((gamma+1)/(2*(gamma-1)))\n",
        "    fourFLperD = (1-M**2)/(gamma*M**2) + ((gamma+1)/(2*gamma))*np.log(((gamma+1)*M**2)/(2+(gamma-1)*M**2))\n",
        "  \n",
        "    return p_to_pstar, T_to_tstar, rho_to_rhostar, p0_to_p0star, fourFLperD\n",
        "\n",
        "print('Initialization successful. You can now use the calculator')"
      ],
      "execution_count": null,
      "outputs": [
        {
          "output_type": "stream",
          "text": [
            "Initialization successful. You can now use the calculator\n"
          ],
          "name": "stdout"
        }
      ]
    },
    {
      "cell_type": "markdown",
      "metadata": {
        "id": "_DnVgS3ThHZ1"
      },
      "source": [
        "Finished? Great. Now you can do the calculation by simply changing ```M``` below (i.e., your $M$):"
      ]
    },
    {
      "cell_type": "code",
      "metadata": {
        "id": "i6HXpPQJhJii"
      },
      "source": [
        "M = 0.3 # Change this to any Mach number that you want"
      ],
      "execution_count": null,
      "outputs": []
    },
    {
      "cell_type": "markdown",
      "metadata": {
        "id": "8lKt7-MthO2S"
      },
      "source": [
        "**and run the following to calculate the ratio between the properties to the reference properties (this is our primary Rayleigh flow calculator that takes M as the input)**:  \n"
      ]
    },
    {
      "cell_type": "code",
      "metadata": {
        "id": "r5lthZMXpdNR",
        "cellView": "form",
        "colab": {
          "base_uri": "https://localhost:8080/"
        },
        "outputId": "b217e724-e3d8-4117-a244-22155cf13491"
      },
      "source": [
        "#@title FANNO FLOW CALCULATOR: Run this to calculate the ratio between the properties to the reference properties:  \n",
        "p_to_pstar, T_to_tstar, rho_to_rhostar, p0_to_p0star, fourFLperD = fanno_property_calc(M)\n",
        "print(\"==FANNO FLOW CALCULATOR==\")\n",
        "print(\"The Mach number is: \" , \"{:.4f}\".format(M))\n",
        "print(\"Your gamma is: \" , \"{:.4f}\".format(gamma))\n",
        "print(\"Your gas constant is: \" , \"{:.4f}\".format(R))\n",
        "print(\"The static pressure ratio is: \" , \"{:.4f}\".format(p_to_pstar))\n",
        "print(\"The static temperature ratio is: \" , \"{:.4f}\".format(T_to_tstar))\n",
        "print(\"The static density ratio is: \" , \"{:.4f}\".format(rho_to_rhostar))\n",
        "print(\"The total pressure ratio is: \" , \"{:.4f}\".format(p0_to_p0star))\n",
        "print(\"The value for (4fL*)/D is: \" , \"{:.4f}\".format(fourFLperD))\n"
      ],
      "execution_count": null,
      "outputs": [
        {
          "output_type": "stream",
          "text": [
            "==FANNO FLOW CALCULATOR==\n",
            "The Mach number is:  1.8920\n",
            "Your gamma is:  1.4000\n",
            "Your gas constant is:  287.0000\n",
            "The static pressure ratio is:  0.4420\n",
            "The static temperature ratio is:  0.6993\n",
            "The static density ratio is:  0.6320\n",
            "The total pressure ratio is:  1.5454\n",
            "The value for (4fL*)/D is:  0.2718\n"
          ],
          "name": "stdout"
        }
      ]
    },
    {
      "cell_type": "markdown",
      "metadata": {
        "id": "KawaWNU_qeeW"
      },
      "source": [
        "In studying Fanno flow, you will notice that you have to find the corresponding $M_{2}$ for a given ratio (e.g., $\\frac{4\\bar{f}L}{D}$). Typically you use a table to accomplish this, but I made the following program for you. You just to need input the type of the quantity of interest that you have (i.e., ``` QOItype```) and the value (i.e., ``` value ```):\n",
        "\n",
        "*   ```'p_to_pstar'``` for $p/p^{*}$ \n",
        "*   ```'T_to_Tstar'``` for $T/T^{*}$\n",
        "*   ```'rho_to_rhostar'``` for $\\rho/\\rho^{*}$  \n",
        "*   ```'p0_to_p0star'``` for $p_{0}/p_{0}^{*}$ \n",
        "*   ```'fourFLperD'``` for $\\frac{4\\bar{f}L^{*}}{D}$\n",
        "\n",
        "After that, please define your ```regime```, which is either ```'subsonic'``` or ```'supersonic'```.\n",
        "\n",
        "For example, if you want to find $M$ that corresponds to $T_{0}/T_{0}^{*}=0.7835$, please set:\n",
        "\n",
        "```\n",
        "value = 5.2993\n",
        "QOItype = 'fourFLperD'\n",
        "regime = 'subsonic'\n",
        "```\n",
        "\n",
        "which will get you $M=2.9999\\approx 3$;"
      ]
    },
    {
      "cell_type": "code",
      "metadata": {
        "id": "f5miV_q1jcbl"
      },
      "source": [
        "value = 0.0578 # The value that you wish to find the corresponding M, change to any number that you wish\n",
        "QOItype = 'fourFLperD' # The QOI that you wish to find the corresponding M, change to any QOI that you wish\n",
        "regime = 'supersonic'# pick 'subsonic' or 'supersonic'"
      ],
      "execution_count": null,
      "outputs": []
    },
    {
      "cell_type": "markdown",
      "metadata": {
        "id": "x6t_PhYNELQN"
      },
      "source": [
        ""
      ]
    },
    {
      "cell_type": "markdown",
      "metadata": {
        "id": "tAXHvHijsMFg"
      },
      "source": [
        "Now run the following program to perform inverse Fanno flow calculator"
      ]
    },
    {
      "cell_type": "code",
      "metadata": {
        "id": "BntWefIZrMUq",
        "cellView": "form",
        "colab": {
          "base_uri": "https://localhost:8080/"
        },
        "outputId": "94bce965-c7ec-44df-8949-b930a12a88d0"
      },
      "source": [
        "#@title INVERSE FANNO FLOW CALCULATOR: Run this program to calculate your M!\n",
        "def find_M2(M2, value, QOItype):\n",
        "    p_to_pstar, T_to_Tstar, rho_to_rhostar, p0_to_p0star, fourFLperD = fanno_property_calc(M2)\n",
        "    if QOItype == 'p_to_pstar':\n",
        "        error = np.sqrt((value-p_to_pstar)**2)\n",
        "    elif QOItype == 'T_to_Tstar':\n",
        "        error = np.sqrt((value-T_to_Tstar)**2)\n",
        "    elif QOItype == 'rho_to_rhostar':\n",
        "        error = np.sqrt((value-rho_to_rhostar)**2)  \n",
        "    elif QOItype == 'p0_to_p0star':\n",
        "        error = np.sqrt((value-p0_to_p0star)**2)  \n",
        "    elif QOItype == 'fourFLperD':\n",
        "        error = np.sqrt((value-fourFLperD)**2)  \n",
        "    return error\n",
        "\n",
        "if regime == 'subsonic':\n",
        "   bound = (0,1)\n",
        "elif regime == 'supersonic':\n",
        "   bound = (1,50)\n",
        "\n",
        "results = differential_evolution(find_M2, args=(value, QOItype),bounds= (bound,))\n",
        "print(\"The Mach number is= %f\" % results.x)\n",
        "print(\".. which corresponds to\", QOItype ,\"=\",value,\"in a\",regime,\"regime\")\n",
        "if results.fun > 0.001:\n",
        "    print('WARNING! The Mach number might be invalid')"
      ],
      "execution_count": null,
      "outputs": [
        {
          "output_type": "stream",
          "text": [
            "The Mach number is= 1.278774\n",
            ".. which corresponds to fourFLperD = 0.0578 in a supersonic regime\n"
          ],
          "name": "stdout"
        }
      ]
    },
    {
      "cell_type": "markdown",
      "metadata": {
        "id": "io1ff3Ppp-2s"
      },
      "source": [
        "---\n",
        "# Appendix 1: Calculator cell \n",
        "If you are familiar with mathematical operators in Python, you can execute the cell below to do simple calculations. \n",
        "\n",
        "``` \n",
        "# Examples:\n",
        "# To perform 3.5+2.5, type '2.5+3.5'\n",
        "# To perform 3.5-2.5, type '3.5-2.5'\n",
        "# To multiply 3.5 with 2.5, type '3.5*2.5'\n",
        "# To divide 3.5 with 2.5, type '3.5/2.5'\n",
        "```"
      ]
    },
    {
      "cell_type": "markdown",
      "metadata": {
        "id": "isY2t35__n-5"
      },
      "source": [
        "---\n",
        "# Examples\n",
        "\n",
        "**Hint: Use the isentropic flow calculator in the appendix 2 when you need it. You can also use calculator in appendix 1**\n",
        "\n",
        "The following examples are adopted from **Modern Compressible Flow** by **John D. Anderson (second edition)**\n",
        "\n",
        "---\n",
        "\n",
        "\n",
        "**Example 1:** Consider the flow of air through a pipe of inside diameter = 0.15 m and length = 30 m . The inlet flow conditions are $M_{1}=0.3$, $p_{1}=1 \\text{atm}$, and $T_{1}=273 \\text{K}$. Assuming $f=\\text{constant}=0.005$, calculate $M_{2}$, $p_{2}$, $T_{2}$, and $p_{0_{2}}$\n",
        "\n",
        "**Solution:** \n",
        "First, use the isentropic flow calculator to find $p_{0_{1}}/p_{1}$ for $M_{1}=0.3$, i.e., $p_{0_{1}}/p_{1}$ for $M_{1}=0.3=1.064$. Hence\n",
        "\n",
        "$p_{0_{1}} = 1.064 (1) = 1.064 \\text{atm}$\n",
        "\n",
        "Use the *Fanno flow calculator* for $M=0.3$, you will get\n",
        "\n",
        "``` \n",
        "==FANNO FLOW CALCULATOR==\n",
        "The Mach number is:  0.3000\n",
        "Your gamma is:  1.4000\n",
        "Your gas constant is:  287.0000\n",
        "The static pressure ratio is:  3.6191\n",
        "The static temperature ratio is:  1.1788\n",
        "The static density ratio is:  3.0702\n",
        "The total pressure ratio is:  2.0351\n",
        "The value for (4fL*)/D is:  5.2993\n",
        "```\n",
        "\n",
        "In particular, what you will need is $4\\bar{f}L_{1}^{*}/D=5.299$, $p_{1}/p^{*}=3.619$, $T_{1}/T^{*}=1.179$, and $p_{0_{1}}/p^{*}=2.035$. From the known $L=30\\text{m}=L_{1}^{*}-L_{2}^{*}$ and $L_{2}^{*} = L_{1}^{*}-L$:\n",
        "\n",
        "$\\frac{4\\bar{f}L_{2}^{*}}{D} = \\frac{4\\bar{f}L_{1}^{*}}{D}-\\frac{4\\bar{f}L}{D}=5.2993-\\frac{(4)(0.005)(30)}{0.15}=1.2293$\n",
        "\n",
        "Now we have to find the value of $M_{2}$ (subsonic) that yields $\\frac{4\\bar{f}L_{2}^{*}}{D}=1.2003$. Use the inverse Fanno flow calculator and you will get\n",
        "\n",
        "```\n",
        "The Mach number is= 0.474443\n",
        ".. which corresponds to fourFLperD = 1.2993 in a subsonic regime\n",
        "```\n",
        "\n",
        "Let's take it as $M_{2}=0.475$. Put it back into the Fanno flow calculator, and you will get\n",
        "\n",
        "``` \n",
        "==FANNO FLOW CALCULATOR==\n",
        "The Mach number is:  0.4750\n",
        "Your gamma is:  1.4000\n",
        "Your gas constant is:  287.0000\n",
        "The static pressure ratio is:  2.2559\n",
        "The static temperature ratio is:  1.1482\n",
        "The static density ratio is:  1.9647\n",
        "The total pressure ratio is:  1.3908\n",
        "The value for (4fL*)/D is:  1.2938\n",
        "```\n",
        "Hence\n",
        "\n",
        "$T_{2} = \\frac{T_{2}}{T^{*}} \\frac{T^{*}}{T_{1}} T_{1} = (0.8955) (\\frac{1}{0.2066}) (273) = 1183 \\text{ K}$\n",
        "\n",
        "$p_{2} = \\frac{p_{2}}{p^{*}} \\frac{p^{*}}{p_{1}} p_{1} = (1.632) (\\frac{1}{2.273}) (1) = 0.718 \\text{ atm}$\n",
        "\n",
        "$p_{0_{2}} = \\frac{p_{0_{2}}}{p_{0}^{*}} \\frac{p_{0}^{*}}{p_{0_{1}}} p_{0_{1}} = (1.083) (\\frac{1}{1.1235}) (1.028) = 0.902 \\text{ atm}$\n",
        "\n",
        "As for $\\rho_{2}$\n",
        "\n",
        "$\\rho_{2} = \\frac{p_{2}}{R T_{2}} = \\frac{(0.718) (1.01 \\times 10^{5}}{(278)(1183)} = 0.214 \\text{ kg/m}^{3}$\n",
        "\n",
        "\n"
      ]
    },
    {
      "cell_type": "markdown",
      "metadata": {
        "id": "uaOVo9GA1w2b"
      },
      "source": [
        "---\n",
        "# Appendix 1: Calculator cell \n",
        "If you are familiar with mathematical operators in Python, you can execute the cell below to do simple calculations. \n",
        "\n",
        "``` \n",
        "# Examples:\n",
        "# To perform 3.5+2.5, type '2.5+3.5'\n",
        "# To perform 3.5-2.5, type '3.5-2.5'\n",
        "# To multiply 3.5 with 2.5, type '3.5*2.5'\n",
        "# To divide 3.5 with 2.5, type '3.5/2.5'\n",
        "```"
      ]
    },
    {
      "cell_type": "code",
      "metadata": {
        "id": "wA2WV6Bdp_nO"
      },
      "source": [
        ""
      ],
      "execution_count": null,
      "outputs": []
    },
    {
      "cell_type": "markdown",
      "metadata": {
        "id": "zKwyYMZXgUYk"
      },
      "source": [
        "---\n",
        "\n",
        "# Appendix 2: Isentropic Flow Calculator\n",
        "For your convenience, you can use the isentropic flow calculator below by inputting your Mach number (i.e., ```M_isen```). You will obtain the following ratios:\n",
        "\n",
        "\n",
        "\n",
        "*   $\\frac{T_{0}}{T} = 1 + \\frac{\\gamma-1}{2}M^{2}$\n",
        "*  $\\frac{p_{0}}{p} = \\bigg(1 + \\frac{\\gamma-1}{2}M^{2}\\bigg)^{\\frac{\\gamma}{\\gamma-1}}$\n",
        "*  $\\frac{\\rho_{0}}{\\rho} = \\bigg(1 + \\frac{\\gamma-1}{2}M^{2}\\bigg)^{\\frac{1}{\\gamma-1}}$\n",
        "\n",
        "Please input your ```M_isen``` below and don't forget to execute it`:"
      ]
    },
    {
      "cell_type": "code",
      "metadata": {
        "id": "4yIinLqhgtAe"
      },
      "source": [
        "M_isen = 0.3 # Change this to any Mach number that you wish for the isentropic flow calculator"
      ],
      "execution_count": null,
      "outputs": []
    },
    {
      "cell_type": "markdown",
      "metadata": {
        "id": "oLLJst-Dg-Xp"
      },
      "source": [
        "After that, just simply run the program below to obtain $\\frac{T_{0}}{T}$, $\\frac{p_{0}}{p}$, and $\\frac{\\rho_{0}}{\\rho}$:"
      ]
    },
    {
      "cell_type": "code",
      "metadata": {
        "id": "IvneoQ9Xg80P",
        "cellView": "form",
        "colab": {
          "base_uri": "https://localhost:8080/"
        },
        "outputId": "101eaf94-95ad-46ab-f374-d6a75c2916ba"
      },
      "source": [
        "#@title Run the isentropic flow calculator!\n",
        "def isentropic_calc(M_isen):\n",
        "  ''' This program calculates the ratio of total to static properties for a \n",
        "  given Mach number'''\n",
        "  T0_to_t = 1+((gamma-1)/2)*M_isen**2\n",
        "  p0_to_p = (T0_to_t)**(gamma/(gamma-1))\n",
        "  rho0_to_rho = (T0_to_t)**(1/(gamma-1))\n",
        "  return T0_to_t, p0_to_p, rho0_to_rho\n",
        " \n",
        "#@title Run this to calculate the properties behind the normal shock wave!\n",
        "T0_to_t, p0_to_p, rho0_to_rho = isentropic_calc(M_isen)\n",
        "print(\"The Mach number is: \" , \"{:.4f}\".format(M_isen))\n",
        "print(\"The ratio of the total and static temperature is: \" , \"{:.4f}\".format(T0_to_t))\n",
        "print(\"The ratio of the total and static pressure is: \" , \"{:.4f}\".format(p0_to_p))\n",
        "print(\"The ratio of the total and static density is: \" , \"{:.4f}\".format(rho0_to_rho))"
      ],
      "execution_count": null,
      "outputs": [
        {
          "output_type": "stream",
          "text": [
            "The Mach number is:  0.3000\n",
            "The ratio of the total and static temperature is:  1.0180\n",
            "The ratio of the total and static pressure is:  1.0644\n",
            "The ratio of the total and static density is:  1.0456\n"
          ],
          "name": "stdout"
        }
      ]
    }
  ]
}